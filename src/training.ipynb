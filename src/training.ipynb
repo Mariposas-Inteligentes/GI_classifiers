{
 "cells": [
  {
   "cell_type": "markdown",
   "metadata": {},
   "source": [
    "# GI Classifiers"
   ]
  },
  {
   "cell_type": "markdown",
   "metadata": {},
   "source": [
    "Done by:\n",
    "\n",
    "1. Luis David Solano Santamaría\n",
    "2. Angie Solís Manzano\n",
    "3. Emilia Víquez Mora"
   ]
  },
  {
   "cell_type": "markdown",
   "metadata": {},
   "source": [
    "## Environment"
   ]
  },
  {
   "cell_type": "code",
   "execution_count": 38,
   "metadata": {},
   "outputs": [],
   "source": [
    "import torch\n",
    "import torchvision\n",
    "import numpy as np\n",
    "\n",
    "\n",
    "from sklearn.metrics import confusion_matrix\n",
    "from torch.utils.data import DataLoader\n",
    "from torchvision import datasets, transforms\n",
    "from torch import nn\n",
    "from sklearn.metrics import accuracy_score\n",
    "from sklearn.metrics import recall_score\n",
    "\n",
    "from vit import VitBase16\n",
    "from convnext import ConvNeXtModel"
   ]
  },
  {
   "cell_type": "markdown",
   "metadata": {},
   "source": [
    "## Functions required"
   ]
  },
  {
   "cell_type": "code",
   "execution_count": 45,
   "metadata": {},
   "outputs": [],
   "source": [
    "def macro_specificity_score(y_true, y_pred):\n",
    "    matrix = confusion_matrix(y_true, y_pred)\n",
    "    specificity_per_class = []\n",
    "\n",
    "    for i in range(len(matrix)):\n",
    "        tn = np.sum(np.delete(np.delete(matrix, i, axis=0), i, axis=1))\n",
    "        fp = np.sum(matrix[:, i]) - matrix[i, i]\n",
    "        specificity = tn / (tn + fp)\n",
    "        specificity_per_class.append(specificity)\n",
    "\n",
    "    macro_specificity = np.mean(specificity_per_class)\n",
    "    return macro_specificity"
   ]
  },
  {
   "cell_type": "code",
   "execution_count": 41,
   "metadata": {},
   "outputs": [],
   "source": [
    "def train_vit(model, train_loader, epochs, lr, device):\n",
    "    optimizer = torch.optim.AdamW(model.parameters(), lr=lr)\n",
    "    loss_fn = nn.CrossEntropyLoss()\n",
    "    \n",
    "    dictionary = {}\n",
    "\n",
    "    for epoch in range(epochs):\n",
    "        model.train()\n",
    "        running_loss = 0.0\n",
    "        all_preds = []\n",
    "        all_labels = []\n",
    "\n",
    "        for images, labels in train_loader:\n",
    "            images, labels = images.to(device), labels.to(device)\n",
    "            optimizer.zero_grad()\n",
    "            outputs = model(images)\n",
    "            loss = loss_fn(outputs, labels)\n",
    "            loss.backward()\n",
    "            optimizer.step()\n",
    "            running_loss += loss.item()\n",
    "\n",
    "            preds = torch.argmax(outputs, dim=1)\n",
    "            all_preds.extend(preds.cpu().numpy())\n",
    "            all_labels.extend(labels.cpu().numpy())\n",
    "        \n",
    "        accuracy = accuracy_score(all_labels, all_preds)\n",
    "        recall = recall_score(all_labels, all_preds, average='macro') # TODO(us): find which is the best average suited to our problem\n",
    "        specificity = macro_specificity_score(all_labels, all_preds)\n",
    "\n",
    "        print(f'Epoch [{epoch+1}/{epochs}], Loss: {running_loss/len(train_loader):.4f}')\n",
    "        print(f'\\tAccuracy: {accuracy*100:.2f}%')\n",
    "        print(f'\\tRecall: {recall*100:.2f}%')\n",
    "        print(f'\\tSpecificity: {specificity*100:.2f}%')\n",
    "\n",
    "    dictionary['accuracy'] = accuracy\n",
    "    dictionary['recall'] = recall\n",
    "    dictionary['specificity'] = specificity\n",
    "\n",
    "    return dictionary"
   ]
  },
  {
   "cell_type": "code",
   "execution_count": 42,
   "metadata": {},
   "outputs": [],
   "source": [
    "def test_vit(model, test_loader, device):\n",
    "    model.eval()\n",
    "    all_preds = []\n",
    "    all_labels = []\n",
    "    dictionary = {}\n",
    "\n",
    "    with torch.no_grad():\n",
    "        for images, labels in test_loader:\n",
    "            images, labels = images.to(device), labels.to(device)\n",
    "            outputs = model(images)\n",
    "            preds = torch.argmax(outputs, dim=1)\n",
    "            all_preds.extend(preds.cpu().numpy())\n",
    "            all_labels.extend(labels.cpu().numpy())\n",
    "    \n",
    "    accuracy = accuracy_score(all_labels, all_preds)\n",
    "    recall = recall_score(all_labels, all_preds, average='macro')\n",
    "    specificity = macro_specificity_score(all_labels, all_preds)\n",
    "\n",
    "    print(f'Test Accuracy: {accuracy * 100:.2f}%')\n",
    "    print(f'Test Recall: {recall * 100:.2f}%')\n",
    "    print(f'Test Specificity: {specificity * 100:.2f}%')\n",
    "\n",
    "    dictionary['accuracy'] = accuracy\n",
    "    dictionary['recall'] = recall\n",
    "    dictionary['specificity'] = specificity\n",
    "\n",
    "    return dictionary"
   ]
  },
  {
   "cell_type": "code",
   "execution_count": 44,
   "metadata": {},
   "outputs": [],
   "source": [
    "def train_test_vit(path, num_classes, device, transform, batch_size, epochs, lr):\n",
    "    vit_model = VitBase16(num_classes=num_classes, device=device).to(device)\n",
    "\n",
    "    train_dataset = datasets.ImageFolder(f'../cross_splitted/{path}/train', transform=transform)\n",
    "    test_dataset = datasets.ImageFolder(f'../cross_splitted/{path}/test', transform=transform)\n",
    "    train_loader = DataLoader(train_dataset, batch_size=batch_size, shuffle=True)\n",
    "    test_loader = DataLoader(test_dataset, batch_size=batch_size, shuffle=False)\n",
    "\n",
    "    dictionary = {}\n",
    "    dictionary['train'] = train_vit(vit_model, train_loader, device=device, epochs=epochs, lr=lr)\n",
    "    dictionary['test'] = test_vit(vit_model, test_loader, device=device)\n",
    "\n",
    "    return dictionary"
   ]
  },
  {
   "cell_type": "code",
   "execution_count": 43,
   "metadata": {},
   "outputs": [],
   "source": [
    "def cross_validate_vit(k):\n",
    "    values = []\n",
    "    for i in range(1, 6):\n",
    "        print(f'Training and Testing #{i}')\n",
    "        values.append(train_test_vit(f'fold_{i}'))\n",
    "\n",
    "\n",
    "    metrics = ['accuracy', 'recall', 'specificity']\n",
    "    average_train = [0] * len(metrics)\n",
    "    average_test = [0] * len(metrics)\n",
    "\n",
    "    for j in range(len(metrics)):\n",
    "        for i in range(len(values)):    \n",
    "            average_train[j] += values[i]['train'][metrics[j]]\n",
    "            average_test[j] += values[i]['test'][metrics[j]]\n",
    "        average_train[j] /= k\n",
    "        average_test[j] /= k\n",
    "        print(f'\\nAverage {metrics[j]} for training: {average_train[j]}')\n",
    "        print(f'\\nAverage {metrics[j]} for testing: {average_test[j]}')"
   ]
  },
  {
   "cell_type": "code",
   "execution_count": 46,
   "metadata": {},
   "outputs": [],
   "source": [
    "def train_convnext(model, train_loader, epochs, lr, device):\n",
    "    optimizer = torch.optim.AdamW(model.parameters(), lr=lr)\n",
    "    loss_fn = nn.CrossEntropyLoss()\n",
    "\n",
    "    dictionary = {}\n",
    "    accuracy = 0\n",
    "    recall = 0\n",
    "\n",
    "    for epoch in range(epochs):\n",
    "        model.train()\n",
    "        running_loss = 0.0\n",
    "        all_preds = []\n",
    "        all_labels = []\n",
    "        \n",
    "        for images, labels in train_loader:\n",
    "            images, labels = images.to(device), labels.to(device)\n",
    "            optimizer.zero_grad()\n",
    "            outputs = model(images)\n",
    "            loss = loss_fn(outputs, labels)\n",
    "            loss.backward()\n",
    "            optimizer.step()\n",
    "            running_loss += loss.item()\n",
    "            \n",
    "            preds = torch.argmax(outputs, dim=1)\n",
    "            all_preds.extend(preds.cpu().numpy())\n",
    "            all_labels.extend(labels.cpu().numpy())\n",
    "        \n",
    "        accuracy = accuracy_score(all_labels, all_preds)\n",
    "        recall = recall_score(all_labels, all_preds, average='macro')\n",
    "        \n",
    "        print(f'Epoch [{epoch+1}/{epochs}], Loss: {running_loss/len(train_loader):.4f}')\n",
    "        print(f'\\tAccuracy: {accuracy*100:.2f}%')\n",
    "        print(f'\\tRecall: {recall*100:.2f}%')\n",
    "\n",
    "    dictionary['accuracy'] = accuracy\n",
    "    dictionary['recall'] = recall\n",
    "\n",
    "    return dictionary"
   ]
  },
  {
   "cell_type": "code",
   "execution_count": 47,
   "metadata": {},
   "outputs": [],
   "source": [
    "def test_convnext(model, test_loader, device):\n",
    "    model.eval()\n",
    "    all_preds = []\n",
    "    all_labels = []\n",
    "    dictionary = {}\n",
    "    \n",
    "    with torch.no_grad():\n",
    "        for images, labels in test_loader:\n",
    "            images, labels = images.to(device), labels.to(device)\n",
    "            outputs = model(images)\n",
    "            preds = torch.argmax(outputs, dim=1)\n",
    "            all_preds.extend(preds.cpu().numpy())\n",
    "            all_labels.extend(labels.cpu().numpy())\n",
    "    \n",
    "    accuracy = accuracy_score(all_labels, all_preds)\n",
    "    recall = recall_score(all_labels, all_preds, average='macro')\n",
    "    print(f\"Test Accuracy: {accuracy * 100:.2f}%\")\n",
    "    print(f\"Test Recall: {recall * 100:.2f}%\")\n",
    "    dictionary['accuracy'] = accuracy\n",
    "    dictionary['recall'] = recall\n",
    "\n",
    "    return dictionary"
   ]
  },
  {
   "cell_type": "code",
   "execution_count": 48,
   "metadata": {},
   "outputs": [],
   "source": [
    "def train_test_convnext(path, num_classes, device, transform, batch_size, epochs, lr):\n",
    "    convnext_model = ConvNeXtModel(num_classes).to(device)\n",
    "\n",
    "    train_dataset = datasets.ImageFolder(f'../cross_splitted/{path}/train', transform=transform)\n",
    "    test_dataset = datasets.ImageFolder(f'../cross_splitted/{path}/test', transform=transform)\n",
    "    train_loader = DataLoader(train_dataset, batch_size=batch_size, shuffle=True)\n",
    "    test_loader = DataLoader(test_dataset, batch_size=batch_size, shuffle=False)\n",
    "\n",
    "    dictionary = {}\n",
    "    dictionary['train'] = train_convnext(convnext_model, train_loader, epochs=epochs, lr=lr, device=device)\n",
    "    dictionary['test'] = test_convnext(convnext_model, test_loader, device=device)\n",
    "\n",
    "    return dictionary"
   ]
  },
  {
   "cell_type": "code",
   "execution_count": 49,
   "metadata": {},
   "outputs": [],
   "source": [
    "def cross_validate_convnext(k):\n",
    "    values = []\n",
    "    for i in range(1, 6):\n",
    "        print(f'Training and Testing #{i}')\n",
    "        values.append(train_test_convnext(f'fold_{i}'))\n",
    "\n",
    "\n",
    "    metrics = ['accuracy', 'recall', 'specificity']\n",
    "\n",
    "    average_train = [0] * len(metrics)\n",
    "    average_test = [0] * len(metrics)\n",
    "\n",
    "    for j in range(len(metrics)):\n",
    "        for i in range(len(values)):    \n",
    "            average_train[j] += values[i]['train'][metrics[j]]\n",
    "            average_test[j] += values[i]['test'][metrics[j]]\n",
    "        average_train[j] /= k\n",
    "        average_test[j] /= k\n",
    "        print(f'\\nAverage {metrics[j]} for training: {average_train[j]}')\n",
    "        print(f'\\nAverage {metrics[j]} for testing: {average_test[j]}')"
   ]
  },
  {
   "cell_type": "markdown",
   "metadata": {},
   "source": [
    "## Train ViT"
   ]
  },
  {
   "cell_type": "code",
   "execution_count": 36,
   "metadata": {},
   "outputs": [
    {
     "name": "stdout",
     "output_type": "stream",
     "text": [
      "Using device cuda\n"
     ]
    }
   ],
   "source": [
    "IMAGE_SIZE = 224  \n",
    "NUM_CLASSES = 5\n",
    "LR = 0.0001  \n",
    "BATCH_SIZE = 32  \n",
    "EPOCHS = 4\n",
    "REPETITIONS = 5\n",
    "DEVICE = 'cuda' if torch.cuda.is_available() else 'cpu'\n",
    "print(f'Using device {DEVICE}')\n",
    "\n",
    "transform = transforms.Compose(\n",
    "    [\n",
    "        transforms.Resize(256, interpolation=torchvision.transforms.InterpolationMode.BILINEAR),\n",
    "        transforms.CenterCrop(224),\n",
    "        transforms.ToTensor(),\n",
    "        transforms.Normalize(mean=[0.485, 0.456, 0.406], std=[0.229, 0.224, 0.225]),\n",
    "    ]\n",
    ")"
   ]
  },
  {
   "cell_type": "markdown",
   "metadata": {},
   "source": [
    "First, we'll find with an initial fold a good set of parameters."
   ]
  },
  {
   "cell_type": "code",
   "execution_count": 37,
   "metadata": {},
   "outputs": [
    {
     "name": "stdout",
     "output_type": "stream",
     "text": [
      "Epoch [1/4], Loss: 0.2541\n",
      "\tAccuracy: 90.80%\n",
      "\tRecall: 90.80%\n",
      "Epoch [2/4], Loss: 0.0837\n",
      "\tAccuracy: 97.22%\n",
      "\tRecall: 97.23%\n",
      "Epoch [3/4], Loss: 0.0524\n",
      "\tAccuracy: 98.17%\n",
      "\tRecall: 98.18%\n",
      "Epoch [4/4], Loss: 0.0496\n",
      "\tAccuracy: 98.38%\n",
      "\tRecall: 98.38%\n",
      "Test Accuracy: 95.60%\n",
      "Test Recall: 95.60%\n"
     ]
    },
    {
     "data": {
      "text/plain": [
       "{'train': {'accuracy': 0.98375, 'recall': 0.98375},\n",
       " 'test': {'accuracy': 0.956, 'recall': 0.9559999999999998}}"
      ]
     },
     "execution_count": 37,
     "metadata": {},
     "output_type": "execute_result"
    }
   ],
   "source": [
    "train_test_vit(path='fold_1', num_classes=NUM_CLASSES, device=DEVICE, transform=transform, batch_size=BATCH_SIZE, epochs=EPOCHS, lr=LR)"
   ]
  },
  {
   "cell_type": "markdown",
   "metadata": {},
   "source": [
    "After this, now we will apply the cross validation with all folds."
   ]
  },
  {
   "cell_type": "code",
   "execution_count": null,
   "metadata": {},
   "outputs": [],
   "source": [
    "#cross_validate_vit(k=REPETITIONS)"
   ]
  },
  {
   "cell_type": "markdown",
   "metadata": {},
   "source": [
    "## Train ConvNeXt"
   ]
  },
  {
   "cell_type": "code",
   "execution_count": 50,
   "metadata": {},
   "outputs": [
    {
     "name": "stdout",
     "output_type": "stream",
     "text": [
      "Using device cuda\n"
     ]
    }
   ],
   "source": [
    "CONVNEXT_VERSION = 'convnext_tiny'  \n",
    "NUM_CLASSES = 5\n",
    "PRETRAINED = True  \n",
    "LR = 0.0001  \n",
    "BATCH_SIZE = 32  \n",
    "EPOCHS = 2\n",
    "REPETITIONS = 5\n",
    "DEVICE = 'cuda' if torch.cuda.is_available() else 'cpu'\n",
    "print(f'Using device {DEVICE}')\n",
    "\n",
    "transform = transforms.Compose(\n",
    "    [\n",
    "        transforms.Resize((224, 224)),\n",
    "        transforms.ToTensor(),\n",
    "    ]\n",
    ")"
   ]
  },
  {
   "cell_type": "code",
   "execution_count": null,
   "metadata": {},
   "outputs": [],
   "source": [
    "train_test_convnext(path='fold_1', num_classes=NUM_CLASSES, device=DEVICE, transform=transform, batch_size=BATCH_SIZE, epochs=EPOCHS, lr=LR)"
   ]
  },
  {
   "cell_type": "code",
   "execution_count": null,
   "metadata": {},
   "outputs": [],
   "source": [
    "#cross_validate_convnext(k=REPETITIONS)"
   ]
  }
 ],
 "metadata": {
  "kernelspec": {
   "display_name": "Python 3",
   "language": "python",
   "name": "python3"
  },
  "language_info": {
   "codemirror_mode": {
    "name": "ipython",
    "version": 3
   },
   "file_extension": ".py",
   "mimetype": "text/x-python",
   "name": "python",
   "nbconvert_exporter": "python",
   "pygments_lexer": "ipython3",
   "version": "3.12.7"
  }
 },
 "nbformat": 4,
 "nbformat_minor": 2
}
